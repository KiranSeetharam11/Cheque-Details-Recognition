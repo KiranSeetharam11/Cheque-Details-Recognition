{
 "cells": [
  {
   "cell_type": "code",
   "execution_count": 1,
   "metadata": {},
   "outputs": [
    {
     "name": "stdout",
     "output_type": "stream",
     "text": [
      "WARNING:tensorflow:From c:\\Users\\kiran\\AppData\\Local\\Programs\\Python\\Python310\\lib\\site-packages\\keras\\src\\losses.py:2976: The name tf.losses.sparse_softmax_cross_entropy is deprecated. Please use tf.compat.v1.losses.sparse_softmax_cross_entropy instead.\n",
      "\n"
     ]
    }
   ],
   "source": [
    "#Need to make better reader of all in the file. i.e better than code1\n",
    "import cv2\n",
    "import numpy as np\n",
    "from keras.datasets import mnist\n",
    "from keras.layers import Dense, Flatten\n",
    "\n",
    "from keras.layers import Conv2D\n",
    "\n",
    "#from keras.layers.convolutional import Conv2D\n",
    "from keras.models import Sequential\n",
    "from keras.utils import to_categorical\n",
    "import matplotlib.pyplot as plt\n",
    "\n"
   ]
  },
  {
   "cell_type": "code",
   "execution_count": 153,
   "metadata": {},
   "outputs": [
    {
     "data": {
      "text/plain": [
       "array([0., 0., 0., 0., 0., 1., 0., 0., 0., 0.], dtype=float32)"
      ]
     },
     "execution_count": 153,
     "metadata": {},
     "output_type": "execute_result"
    }
   ],
   "source": []
  },
  {
   "cell_type": "code",
   "execution_count": 2,
   "metadata": {},
   "outputs": [],
   "source": [
    "(X_train, y_train), (X_test, y_test) = mnist.load_data()"
   ]
  },
  {
   "cell_type": "code",
   "execution_count": 60,
   "metadata": {},
   "outputs": [],
   "source": [
    "# for i in range(0,5000):\n",
    "#     if y_train[i].argmax() == 1:\n",
    "#         plt.imshow(X_train[i], cmap=\"gray\")\n",
    "#         plt.show()\n",
    "# y_train[3].argmax()"
   ]
  },
  {
   "cell_type": "code",
   "execution_count": 61,
   "metadata": {},
   "outputs": [
    {
     "name": "stdout",
     "output_type": "stream",
     "text": [
      "Shape of X_train: (60000, 28, 28, 1)\n",
      "Shape of y_train: (60000, 10)\n",
      "Shape of X_test: (10000, 28, 28, 1)\n",
      "Shape of y_test: (10000, 10)\n"
     ]
    }
   ],
   "source": [
    "## Checking out the shapes involved in dataset\n",
    "print (\"Shape of X_train: {}\".format(X_train.shape))\n",
    "print (\"Shape of y_train: {}\".format(y_train.shape))\n",
    "print (\"Shape of X_test: {}\".format(X_test.shape))\n",
    "print (\"Shape of y_test: {}\".format(y_test.shape))"
   ]
  },
  {
   "cell_type": "code",
   "execution_count": 5,
   "metadata": {},
   "outputs": [],
   "source": [
    "X_train = X_train.reshape(60000, 28, 28, 1)\n",
    "X_test = X_test.reshape(10000, 28, 28, 1)"
   ]
  },
  {
   "cell_type": "code",
   "execution_count": 6,
   "metadata": {},
   "outputs": [],
   "source": [
    "# One-hot Encoding -\n",
    "# For example, if the image is of the number 6, \n",
    "# then the label instead of being = 6, it will have a value 1 in column 7 and 0 in rest of the columns, like [0,0,0,0,0,0,1,0,0].\n",
    "y_train = to_categorical(y_train)\n",
    "y_test = to_categorical(y_test)"
   ]
  },
  {
   "cell_type": "code",
   "execution_count": 38,
   "metadata": {},
   "outputs": [
    {
     "name": "stdout",
     "output_type": "stream",
     "text": [
      "WARNING:tensorflow:From c:\\Users\\kiran\\AppData\\Local\\Programs\\Python\\Python310\\lib\\site-packages\\keras\\src\\layers\\pooling\\max_pooling2d.py:161: The name tf.nn.max_pool is deprecated. Please use tf.nn.max_pool2d instead.\n",
      "\n"
     ]
    }
   ],
   "source": [
    "from keras.layers import MaxPooling2D, Dropout\n",
    "## Declare the model\n",
    "model = Sequential()\n",
    "\n",
    "# ## Declare the layers\n",
    "# layer_1 = Conv2D(32, kernel_size=3, activation=\"relu\", input_shape=(28, 28, 1))\n",
    "# layer_2 = Conv2D(64, kernel_size=3, activation=\"relu\")\n",
    "# layer_3 = Flatten()\n",
    "# layer_4 = Dense(10, activation=\"softmax\")\n",
    "# layer_maxpool = MaxPooling2D(pool_size=(2, 2))\n",
    "\n",
    "# ## Add the layers to the model\n",
    "# model.add(layer_1)\n",
    "# model.add(layer_2)\n",
    "# model.add(layer_3)\n",
    "# model.add(layer_4)\n",
    "\n",
    "model.add(Conv2D(32, kernel_size=3, activation='relu', input_shape=(28, 28, 1)))\n",
    "model.add(Conv2D(32, kernel_size=3, activation='relu'))\n",
    "model.add(MaxPooling2D(pool_size=(2, 2)))\n",
    "model.add(Dropout(0.25))\n",
    "\n",
    "model.add(Conv2D(64, kernel_size=3, activation='relu'))\n",
    "model.add(Conv2D(64, kernel_size=3, activation='relu'))\n",
    "model.add(MaxPooling2D(pool_size=(2, 2)))\n",
    "model.add(Dropout(0.25))\n",
    "\n",
    "model.add(Flatten())\n",
    "model.add(Dense(128, activation='relu'))\n",
    "model.add(Dropout(0.5))\n",
    "model.add(Dense(10, activation='softmax'))"
   ]
  },
  {
   "cell_type": "code",
   "execution_count": 39,
   "metadata": {},
   "outputs": [],
   "source": [
    "model.compile(optimizer='adam', loss='categorical_crossentropy', metrics=['accuracy'])"
   ]
  },
  {
   "cell_type": "code",
   "execution_count": 40,
   "metadata": {},
   "outputs": [
    {
     "name": "stdout",
     "output_type": "stream",
     "text": [
      "Epoch 1/10\n",
      "1875/1875 [==============================] - 44s 23ms/step - loss: 0.4048 - accuracy: 0.8885 - val_loss: 0.0570 - val_accuracy: 0.9813\n",
      "Epoch 2/10\n",
      "1875/1875 [==============================] - 52s 28ms/step - loss: 0.1232 - accuracy: 0.9652 - val_loss: 0.0416 - val_accuracy: 0.9871\n",
      "Epoch 3/10\n",
      "1875/1875 [==============================] - 51s 27ms/step - loss: 0.0928 - accuracy: 0.9735 - val_loss: 0.0321 - val_accuracy: 0.9897\n",
      "Epoch 4/10\n",
      "1875/1875 [==============================] - 52s 27ms/step - loss: 0.0854 - accuracy: 0.9757 - val_loss: 0.0303 - val_accuracy: 0.9907\n",
      "Epoch 5/10\n",
      "1875/1875 [==============================] - 49s 26ms/step - loss: 0.0731 - accuracy: 0.9790 - val_loss: 0.0291 - val_accuracy: 0.9913\n",
      "Epoch 6/10\n",
      "1875/1875 [==============================] - 51s 27ms/step - loss: 0.0688 - accuracy: 0.9812 - val_loss: 0.0259 - val_accuracy: 0.9922\n",
      "Epoch 7/10\n",
      "1875/1875 [==============================] - 50s 27ms/step - loss: 0.0612 - accuracy: 0.9829 - val_loss: 0.0233 - val_accuracy: 0.9917\n",
      "Epoch 8/10\n",
      "1875/1875 [==============================] - 51s 27ms/step - loss: 0.0590 - accuracy: 0.9838 - val_loss: 0.0281 - val_accuracy: 0.9922\n",
      "Epoch 9/10\n",
      "1875/1875 [==============================] - 50s 27ms/step - loss: 0.0555 - accuracy: 0.9844 - val_loss: 0.0223 - val_accuracy: 0.9931\n",
      "Epoch 10/10\n",
      "1875/1875 [==============================] - 59s 31ms/step - loss: 0.0578 - accuracy: 0.9843 - val_loss: 0.0287 - val_accuracy: 0.9909\n"
     ]
    },
    {
     "data": {
      "text/plain": [
       "<keras.src.callbacks.History at 0x2afeaebdd20>"
      ]
     },
     "execution_count": 40,
     "metadata": {},
     "output_type": "execute_result"
    }
   ],
   "source": [
    "model.fit(X_train, y_train, validation_data=(X_test, y_test), epochs=10)"
   ]
  },
  {
   "cell_type": "code",
   "execution_count": 179,
   "metadata": {},
   "outputs": [
    {
     "name": "stdout",
     "output_type": "stream",
     "text": [
      "1/1 [==============================] - 0s 36ms/step\n",
      "Prediction (Softmax) from the neural network:\n",
      "\n",
      " [[1.7570511e-15 3.4327406e-14 1.0000000e+00 5.0613352e-10 1.1205415e-14\n",
      "  1.9447288e-16 5.6674805e-16 1.2874669e-10 5.0960600e-11 3.1363352e-15]]\n",
      "\n",
      "\n",
      "Hard-maxed form of the prediction: \n",
      "\n",
      " [[0. 0. 1. 0. 0. 0. 0. 0. 0. 0.]]\n",
      "\n",
      "\n",
      "--------- Prediction --------- \n",
      "\n",
      "\n"
     ]
    },
    {
     "data": {
      "image/png": "[encoded data removed]",
      "text/plain": [
       "<Figure size 640x480 with 1 Axes>"
      ]
     },
     "metadata": {},
     "output_type": "display_data"
    },
    {
     "name": "stdout",
     "output_type": "stream",
     "text": [
      "\n",
      "\n",
      "Final Output: 2\n"
     ]
    }
   ],
   "source": [
    "example = X_train[5]\n",
    "prediction = model.predict(example.reshape(1, 28, 28, 1))\n",
    "## First output\n",
    "print (\"Prediction (Softmax) from the neural network:\\n\\n {}\".format(prediction))\n",
    "## Second output\n",
    "hard_maxed_prediction = np.zeros(prediction.shape)\n",
    "hard_maxed_prediction[0][np.argmax(prediction)] = 1\n",
    "print (\"\\n\\nHard-maxed form of the prediction: \\n\\n {}\".format(hard_maxed_prediction))\n",
    "## Third output\n",
    "print (\"\\n\\n--------- Prediction --------- \\n\\n\")\n",
    "plt.imshow(example.reshape(28, 28), cmap=\"gray\")\n",
    "plt.show()\n",
    "print(\"\\n\\nFinal Output: {}\".format(np.argmax(prediction)))"
   ]
  },
  {
   "cell_type": "code",
   "execution_count": 754,
   "metadata": {},
   "outputs": [],
   "source": [
    "from PIL import Image\n",
    "#imagesource = cv2.imread('new2.png')\n",
    "imagesource = 'new2.png' # add location of file\n",
    "img = Image.open(imagesource)"
   ]
  },
  {
   "cell_type": "code",
   "execution_count": 755,
   "metadata": {},
   "outputs": [],
   "source": [
    "# TO FIND FROM ACC NO - INPUT 1\n",
    "\n",
    "left = 91\n",
    "top = 0\n",
    "right = 360\n",
    "bottom = 42\n",
    "image = img.crop((left, top, right, bottom))\n",
    "image = np.array(image)\n",
    "grey = cv2.cvtColor(image.copy(), cv2.COLOR_BGR2GRAY)\n",
    "ret, thresh = cv2.threshold(grey.copy(), 75, 255, cv2.THRESH_BINARY_INV)\n",
    "contours, hierarchy= cv2.findContours(thresh.copy(), cv2.RETR_EXTERNAL, cv2.CHAIN_APPROX_SIMPLE)\n",
    "preprocessed_digits = []\n",
    "\n",
    "\n",
    "dup_img = image.copy()\n",
    "def ret_x_centroid(contours):\n",
    "    if cv2.contourArea(contours) > 10:\n",
    "        cent_moment = cv2.moments(contours)\n",
    "        return (int(cent_moment[\"m10\"]/cent_moment[\"m00\"]))\n",
    "    else:\n",
    "        pass\n",
    "        \n",
    "def identity_centroid(image,centroid):\n",
    "    cent_moment = cv2.moments(centroid)\n",
    "    centroid_x = int(cent_moment[\"m10\"]/cent_moment[\"m00\"])\n",
    "    centroid_y = int(cent_moment[\"m01\"]/cent_moment[\"m00\"])\n",
    "    cv2.circle(image,(centroid_x,centroid_y),10,(255,0,0),-1)\n",
    "    return image\n",
    "\n",
    "contours_from_l_to_r = sorted(contours,key = ret_x_centroid,reverse = False)\n",
    "\n",
    "for(i,c) in enumerate(contours_from_l_to_r):\n",
    "    cv2.drawContours(dup_img,[c],-1,(0,0,255),3)\n",
    "    cent_moment = cv2.moments(c)\n",
    "    centroid_x = int(cent_moment[\"m10\"]/cent_moment[\"m00\"])\n",
    "    centroid_y = int(cent_moment[\"m01\"]/cent_moment[\"m00\"])\n",
    "    x,y,w,h = cv2.boundingRect(c)\n",
    "\n",
    "    # Creating a rectangle around the digit in the original image (for displaying the digits fetched via contours)\n",
    "    cv2.rectangle(image, (x,y), (x+w, y+h), color=(0, 255, 0), thickness=1)\n",
    "        \n",
    "    # Cropping out the digit from the image corresponding to the current contours in the for loop\n",
    "    digit = thresh[y:y+h, x:x+w]    \n",
    "        \n",
    "    # Resizing that digit to (18, 18)\n",
    "    resized_digit = cv2.resize(digit, (18,18))\n",
    "    \n",
    "    # Padding the digit with 5 pixels of black color (zeros) in each side to finally produce the image of (28, 28)\n",
    "    padded_digit = np.pad(resized_digit, ((5,5),(5,5)), \"constant\", constant_values=0)\n",
    "        \n",
    "    # Adding the preprocessed digit to the list of preprocessed digits\n",
    "    preprocessed_digits.append(padded_digit)\n"
   ]
  },
  {
   "cell_type": "code",
   "execution_count": 756,
   "metadata": {},
   "outputs": [
    {
     "name": "stdout",
     "output_type": "stream",
     "text": [
      "\n",
      "\n",
      "\n",
      "----------------Contoured Image--------------------\n"
     ]
    },
    {
     "data": {
      "image/png": "[encoded data removed]",
      "text/plain": [
       "<Figure size 640x480 with 1 Axes>"
      ]
     },
     "metadata": {},
     "output_type": "display_data"
    }
   ],
   "source": [
    "print(\"\\n\\n\\n----------------Contoured Image--------------------\")\n",
    "plt.imshow(image, cmap=\"gray\")\n",
    "plt.show()\n",
    "    \n",
    "inp1 = np.array(preprocessed_digits)\n",
    "inp2 = np.array(resized_digit)\n"
   ]
  },
  {
   "cell_type": "code",
   "execution_count": 757,
   "metadata": {},
   "outputs": [
    {
     "name": "stdout",
     "output_type": "stream",
     "text": [
      "1/1 [==============================] - 0s 48ms/step\n",
      "1/1 [==============================] - 0s 43ms/step\n",
      "1/1 [==============================] - 0s 33ms/step\n",
      "1/1 [==============================] - 0s 39ms/step\n",
      "1/1 [==============================] - 0s 44ms/step\n",
      "1/1 [==============================] - 0s 44ms/step\n"
     ]
    }
   ],
   "source": [
    "FromAcc = []\n",
    "\n",
    "for digit in preprocessed_digits:\n",
    "    prediction = model.predict(digit.reshape(1, 28, 28, 1))  \n",
    "    \n",
    "    #print (\"\\n\\n---------------------------------------\\n\\n\")\n",
    "    #print (\"=========PREDICTION============ \\n\\n\")\n",
    "    #plt.imshow(digit.reshape(28, 28), cmap=\"gray\")\n",
    "    #plt.show()\n",
    "    #print(\"\\n\\nFinal Output: {}\".format(np.argmax(prediction)))\n",
    "    FromAcc.append(np.argmax(prediction))\n",
    "    # min_val = np.min(prediction)\n",
    "    # max_val = np.max(prediction)\n",
    "    # normalized_arr = (prediction - min_val) / (max_val - min_val)\n",
    "    # print(normalized_arr)\n",
    "    #print (\"\\nPrediction (Softmax) from the neural network:\\n\\n {}\".format(prediction))\n",
    "    \n",
    "    hard_maxed_prediction = np.zeros(prediction.shape)\n",
    "    hard_maxed_prediction[0][np.argmax(prediction)] = 1\n",
    "    #print (\"\\n\\nHard-maxed form of the prediction: \\n\\n {}\".format(hard_maxed_prediction))\n",
    "    #print (\"\\n\\n---------------------------------------\\n\\n\")"
   ]
  },
  {
   "cell_type": "code",
   "execution_count": 758,
   "metadata": {},
   "outputs": [
    {
     "name": "stdout",
     "output_type": "stream",
     "text": [
      "44762\n"
     ]
    }
   ],
   "source": [
    "#print(FromAcc)\n",
    "del FromAcc[-1]\n",
    "FromAcc = ''.join(map(str, FromAcc))\n",
    "FromAcc = int(FromAcc)\n",
    "print(FromAcc)"
   ]
  },
  {
   "cell_type": "code",
   "execution_count": 759,
   "metadata": {},
   "outputs": [],
   "source": [
    "#Simillary do it for 2 more as save it as From_AC and Amount\n",
    "# TO FIND TO ACC NO - INPUT 2\n",
    "img = Image.open(imagesource)\n",
    "left = 65\n",
    "top = 43\n",
    "right = 360\n",
    "bottom = 77\n",
    "image = img.crop((left, top, right, bottom))\n",
    "image = np.array(image)\n",
    "grey = cv2.cvtColor(image.copy(), cv2.COLOR_BGR2GRAY)\n",
    "ret, thresh = cv2.threshold(grey.copy(), 75, 255, cv2.THRESH_BINARY_INV)\n",
    "contours, hierarchy= cv2.findContours(thresh.copy(), cv2.RETR_EXTERNAL, cv2.CHAIN_APPROX_SIMPLE)\n",
    "preprocessed_digits = []\n",
    "\n",
    "\n",
    "dup_img = image.copy()\n",
    "def ret_x_centroid(contours):\n",
    "    if cv2.contourArea(contours) > 10:\n",
    "        cent_moment = cv2.moments(contours)\n",
    "        return (int(cent_moment[\"m10\"]/cent_moment[\"m00\"]))\n",
    "    else:\n",
    "        pass\n",
    "        \n",
    "def identity_centroid(image,centroid):\n",
    "    cent_moment = cv2.moments(centroid)\n",
    "    centroid_x = int(cent_moment[\"m10\"]/cent_moment[\"m00\"])\n",
    "    centroid_y = int(cent_moment[\"m01\"]/cent_moment[\"m00\"])\n",
    "    cv2.circle(image,(centroid_x,centroid_y),10,(255,0,0),-1)\n",
    "    return image\n",
    "\n",
    "contours_from_l_to_r = sorted(contours,key = ret_x_centroid,reverse = False)\n",
    "\n",
    "for(i,c) in enumerate(contours_from_l_to_r):\n",
    "    cv2.drawContours(dup_img,[c],-1,(0,0,255),3)\n",
    "    cent_moment = cv2.moments(c)\n",
    "    centroid_x = int(cent_moment[\"m10\"]/cent_moment[\"m00\"])\n",
    "    centroid_y = int(cent_moment[\"m01\"]/cent_moment[\"m00\"])\n",
    "    x,y,w,h = cv2.boundingRect(c)\n",
    "\n",
    "    # Creating a rectangle around the digit in the original image (for displaying the digits fetched via contours)\n",
    "    cv2.rectangle(image, (x,y), (x+w, y+h), color=(0, 255, 0), thickness=1)\n",
    "        \n",
    "    # Cropping out the digit from the image corresponding to the current contours in the for loop\n",
    "    digit = thresh[y:y+h, x:x+w]    \n",
    "        \n",
    "    # Resizing that digit to (18, 18)\n",
    "    resized_digit = cv2.resize(digit, (18,18))\n",
    "    \n",
    "    # Padding the digit with 5 pixels of black color (zeros) in each side to finally produce the image of (28, 28)\n",
    "    padded_digit = np.pad(resized_digit, ((5,5),(5,5)), \"constant\", constant_values=0)\n",
    "        \n",
    "    # Adding the preprocessed digit to the list of preprocessed digits\n",
    "    preprocessed_digits.append(padded_digit)"
   ]
  },
  {
   "cell_type": "code",
   "execution_count": 760,
   "metadata": {},
   "outputs": [
    {
     "name": "stdout",
     "output_type": "stream",
     "text": [
      "\n",
      "\n",
      "\n",
      "----------------Contoured Image--------------------\n"
     ]
    },
    {
     "data": {
      "image/png": "[encoded data removed]",
      "text/plain": [
       "<Figure size 640x480 with 1 Axes>"
      ]
     },
     "metadata": {},
     "output_type": "display_data"
    }
   ],
   "source": [
    "print(\"\\n\\n\\n----------------Contoured Image--------------------\")\n",
    "plt.imshow(image, cmap=\"gray\")\n",
    "plt.show()\n",
    "    \n",
    "inp1 = np.array(preprocessed_digits)\n",
    "inp2 = np.array(resized_digit)"
   ]
  },
  {
   "cell_type": "code",
   "execution_count": 761,
   "metadata": {},
   "outputs": [
    {
     "name": "stdout",
     "output_type": "stream",
     "text": [
      "1/1 [==============================] - 0s 45ms/step\n",
      "1/1 [==============================] - 0s 37ms/step\n",
      "1/1 [==============================] - 0s 32ms/step\n",
      "1/1 [==============================] - 0s 35ms/step\n",
      "1/1 [==============================] - 0s 92ms/step\n",
      "1/1 [==============================] - 0s 56ms/step\n"
     ]
    }
   ],
   "source": [
    "ToAcc = []\n",
    "\n",
    "for digit in preprocessed_digits:\n",
    "    prediction = model.predict(digit.reshape(1, 28, 28, 1))  \n",
    "    \n",
    "    #print (\"\\n\\n---------------------------------------\\n\\n\")\n",
    "    #print (\"=========PREDICTION============ \\n\\n\")\n",
    "    #plt.imshow(digit.reshape(28, 28), cmap=\"gray\")\n",
    "    #plt.show()\n",
    "    #print(\"\\n\\nFinal Output: {}\".format(np.argmax(prediction)))\n",
    "    ToAcc.append(np.argmax(prediction))\n",
    "    # min_val = np.min(prediction)\n",
    "    # max_val = np.max(prediction)\n",
    "    # normalized_arr = (prediction - min_val) / (max_val - min_val)\n",
    "    # print(normalized_arr)\n",
    "    #print (\"\\nPrediction (Softmax) from the neural network:\\n\\n {}\".format(prediction))\n",
    "    \n",
    "    hard_maxed_prediction = np.zeros(prediction.shape)\n",
    "    hard_maxed_prediction[0][np.argmax(prediction)] = 1\n",
    "    #print (\"\\n\\nHard-maxed form of the prediction: \\n\\n {}\".format(hard_maxed_prediction))\n",
    "    #print (\"\\n\\n---------------------------------------\\n\\n\")\n",
    "\n",
    "del ToAcc[-1]\n",
    "ToAcc = ''.join(map(str, ToAcc))\n",
    "ToAcc = int(ToAcc)"
   ]
  },
  {
   "cell_type": "code",
   "execution_count": 762,
   "metadata": {},
   "outputs": [],
   "source": [
    "#Simillary do it for 2 more as save it as From_AC and Amount\n",
    "# TO FIND Amount - INPUT 3\n",
    "\n",
    "left = 83\n",
    "top = 76\n",
    "right = 360\n",
    "bottom = 200\n",
    "image = img.crop((left, top, right, bottom))\n",
    "image = np.array(image)\n",
    "grey = cv2.cvtColor(image.copy(), cv2.COLOR_BGR2GRAY)\n",
    "ret, thresh = cv2.threshold(grey.copy(), 75, 255, cv2.THRESH_BINARY_INV)\n",
    "contours, hierarchy= cv2.findContours(thresh.copy(), cv2.RETR_EXTERNAL, cv2.CHAIN_APPROX_SIMPLE)\n",
    "preprocessed_digits = []\n",
    "\n",
    "\n",
    "dup_img = image.copy()\n",
    "def ret_x_centroid(contours):\n",
    "    if cv2.contourArea(contours) > 10:\n",
    "        cent_moment = cv2.moments(contours)\n",
    "        return (int(cent_moment[\"m10\"]/cent_moment[\"m00\"]))\n",
    "    else:\n",
    "        pass\n",
    "        \n",
    "def identity_centroid(image,centroid):\n",
    "    cent_moment = cv2.moments(centroid)\n",
    "    centroid_x = int(cent_moment[\"m10\"]/cent_moment[\"m00\"])\n",
    "    centroid_y = int(cent_moment[\"m01\"]/cent_moment[\"m00\"])\n",
    "    cv2.circle(image,(centroid_x,centroid_y),10,(255,0,0),-1)\n",
    "    return image\n",
    "\n",
    "contours_from_l_to_r = sorted(contours,key = ret_x_centroid,reverse = False)\n",
    "\n",
    "for(i,c) in enumerate(contours_from_l_to_r):\n",
    "    cv2.drawContours(dup_img,[c],-1,(0,0,255),3)\n",
    "    cent_moment = cv2.moments(c)\n",
    "    centroid_x = int(cent_moment[\"m10\"]/cent_moment[\"m00\"])\n",
    "    centroid_y = int(cent_moment[\"m01\"]/cent_moment[\"m00\"])\n",
    "    x,y,w,h = cv2.boundingRect(c)\n",
    "\n",
    "    # Creating a rectangle around the digit in the original image (for displaying the digits fetched via contours)\n",
    "    cv2.rectangle(image, (x,y), (x+w, y+h), color=(0, 255, 0), thickness=1)\n",
    "        \n",
    "    # Cropping out the digit from the image corresponding to the current contours in the for loop\n",
    "    digit = thresh[y:y+h, x:x+w]    \n",
    "        \n",
    "    # Resizing that digit to (18, 18)\n",
    "    resized_digit = cv2.resize(digit, (18,18))\n",
    "    \n",
    "    # Padding the digit with 5 pixels of black color (zeros) in each side to finally produce the image of (28, 28)\n",
    "    padded_digit = np.pad(resized_digit, ((5,5),(5,5)), \"constant\", constant_values=0)\n",
    "        \n",
    "    # Adding the preprocessed digit to the list of preprocessed digits\n",
    "    preprocessed_digits.append(padded_digit)"
   ]
  },
  {
   "cell_type": "code",
   "execution_count": 763,
   "metadata": {},
   "outputs": [
    {
     "name": "stdout",
     "output_type": "stream",
     "text": [
      "1/1 [==============================] - 0s 40ms/step\n",
      "1/1 [==============================] - 0s 33ms/step\n",
      "1/1 [==============================] - 0s 34ms/step\n",
      "1/1 [==============================] - 0s 37ms/step\n",
      "1/1 [==============================] - 0s 45ms/step\n",
      "1/1 [==============================] - 0s 37ms/step\n"
     ]
    },
    {
     "data": {
      "text/plain": [
       "70000"
      ]
     },
     "execution_count": 763,
     "metadata": {},
     "output_type": "execute_result"
    }
   ],
   "source": [
    "Amount = []\n",
    "\n",
    "for digit in preprocessed_digits:\n",
    "    prediction = model.predict(digit.reshape(1, 28, 28, 1))  \n",
    "    \n",
    "    #print (\"\\n\\n---------------------------------------\\n\\n\")\n",
    "    #print (\"=========PREDICTION============ \\n\\n\")\n",
    "    #plt.imshow(digit.reshape(28, 28), cmap=\"gray\")\n",
    "    #plt.show()\n",
    "    #print(\"\\n\\nFinal Output: {}\".format(np.argmax(prediction)))\n",
    "    Amount.append(np.argmax(prediction))\n",
    "    # min_val = np.min(prediction)\n",
    "    # max_val = np.max(prediction)\n",
    "    # normalized_arr = (prediction - min_val) / (max_val - min_val)\n",
    "    # print(normalized_arr)\n",
    "    #print (\"\\nPrediction (Softmax) from the neural network:\\n\\n {}\".format(prediction))\n",
    "    \n",
    "    hard_maxed_prediction = np.zeros(prediction.shape)\n",
    "    hard_maxed_prediction[0][np.argmax(prediction)] = 1\n",
    "    #print (\"\\n\\nHard-maxed form of the prediction: \\n\\n {}\".format(hard_maxed_prediction))\n",
    "    #print (\"\\n\\n---------------------------------------\\n\\n\")\n",
    "\n",
    "#print(Amount)\n",
    "del Amount[-1]\n",
    "\n",
    "Amount = ''.join(map(str, Amount))\n",
    "Amount = int(Amount)\n",
    "Amount"
   ]
  },
  {
   "cell_type": "code",
   "execution_count": 765,
   "metadata": {},
   "outputs": [],
   "source": [
    "#Now add transaction to transaction .csv\n",
    "import pandas as pd\n",
    "transaction = pd.read_csv(\"Transaction.csv\")\n",
    "name = pd.read_csv(\"AccName.csv\")\n",
    "\n"
   ]
  },
  {
   "cell_type": "code",
   "execution_count": 769,
   "metadata": {},
   "outputs": [],
   "source": [
    "def get_name(accno):\n",
    "    accfilter = name[\"Account Number\"] == accno\n",
    "    return(name[accfilter][\"User Name\"].values[0])"
   ]
  },
  {
   "cell_type": "code",
   "execution_count": 770,
   "metadata": {},
   "outputs": [
    {
     "name": "stdout",
     "output_type": "stream",
     "text": [
      "2,40,000\n"
     ]
    }
   ],
   "source": [
    "df1 = transaction[(transaction[\"AC_No_dest\"] == 44762 ) | (transaction[\"AC_No_origin\"] == 44762)]\n",
    "#print(df1)\n",
    "x = len(df1)\n",
    "lastrow = df1.tail(1)\n",
    "print(lastrow[\"new_balance_dest\"].values[0])"
   ]
  },
  {
   "cell_type": "code",
   "execution_count": 771,
   "metadata": {},
   "outputs": [],
   "source": [
    "def get_balance(accno):\n",
    "    #print(accno)\n",
    "    \n",
    "    df = transaction[(transaction[\"AC_No_dest\"] == accno ) | (transaction[\"AC_No_origin\"] == accno)]\n",
    "    lastrow = df.tail(1)\n",
    "    #print(lastrow[\"AC_No_dest\"])\n",
    "    if lastrow[\"AC_No_dest\"].values == accno :\n",
    "        balance = lastrow[\"new_balance_dest\"].values[0]\n",
    "    else:\n",
    "        balance = lastrow[\"new_balance_origin\"].values[0]\n",
    "\n",
    "    return balance"
   ]
  },
  {
   "cell_type": "code",
   "execution_count": 772,
   "metadata": {},
   "outputs": [],
   "source": [
    "import warnings\n",
    "import sys"
   ]
  },
  {
   "cell_type": "code",
   "execution_count": 774,
   "metadata": {},
   "outputs": [],
   "source": [
    "\n",
    "def update_transactions(FromAcc,ToAcc,Amount):\n",
    "    if FromAcc not in name[\"Account Number\"].tolist():\n",
    "        warnings.warn(\"User Details Invalid, please check manually\")\n",
    "        sys.exit(2)\n",
    "\n",
    "    if ToAcc not in name[\"Account Number\"].tolist(): \n",
    "        warnings.warn(\"User Details Invalid, please check manually\")\n",
    "        sys.exit(2)\n",
    "    \n",
    "    Name_origin = get_name(FromAcc)\n",
    "    #print(Name_origin)\n",
    "    Name_dest = get_name(ToAcc)\n",
    "    Old_balance_origin = get_balance(FromAcc)\n",
    "    Old_balance_dest = get_balance(ToAcc)\n",
    "    \n",
    "    Old_balance_origin = Old_balance_origin.replace(\",\",\"\")\n",
    "    Old_balance_dest = Old_balance_dest.replace(\",\",\"\")\n",
    "    #print(Old_balance_origin,Old_balance_dest)\n",
    "    Old_balance_dest = int(Old_balance_dest)\n",
    "    Old_balance_origin = int(Old_balance_origin)\n",
    "    new_balance_origin = Old_balance_origin - Amount\n",
    "    new_balance_dest = Old_balance_dest + Amount\n",
    "    if new_balance_origin < 0:\n",
    "        warnings.warn(\"The cheque will get bounced due to insufficient balance\") \n",
    "        sys.exit(1)   \n",
    "        \n",
    "    newrow = {'AC_No_origin': FromAcc , 'Name_origin': Name_origin, 'Old_balance_origin': Old_balance_origin,\n",
    "              'new_balance_origin': new_balance_origin, 'AC_No_dest': ToAcc, 'Name_dest': Name_dest, 'Old_balance_dest': Old_balance_dest,\n",
    "              'new_balance_dest': new_balance_dest, 'Amount': Amount}\n",
    "    return(newrow)\n",
    "    # print(newrow)\n",
    "    # indexnumber = len(transaction)\n",
    "    # dftoadd = pd.DataFrame(newrow,index= [indexnumber])\n",
    "\n",
    "    # print(\"Newrow created\")\n",
    "    # transaction.append(dftoadd)\n",
    "\n",
    "    # #transaction.append(newrow,ignore_index=True)\n",
    "    # #print(transaction)\n",
    "    # print(\"newrow appended\")"
   ]
  },
  {
   "cell_type": "code",
   "execution_count": 775,
   "metadata": {},
   "outputs": [],
   "source": [
    "newrow = update_transactions(FromAcc,ToAcc,Amount)"
   ]
  },
  {
   "cell_type": "code",
   "execution_count": 776,
   "metadata": {},
   "outputs": [
    {
     "name": "stdout",
     "output_type": "stream",
     "text": [
      "<class 'pandas.core.frame.DataFrame'>\n",
      "RangeIndex: 47 entries, 0 to 46\n",
      "Data columns (total 9 columns):\n",
      " #   Column              Non-Null Count  Dtype \n",
      "---  ------              --------------  ----- \n",
      " 0   AC_No_origin        47 non-null     int64 \n",
      " 1   Name_origin         47 non-null     object\n",
      " 2   Old_balance_origin  47 non-null     object\n",
      " 3   new_balance_origin  47 non-null     object\n",
      " 4   AC_No_dest          47 non-null     int64 \n",
      " 5   Name_dest           47 non-null     object\n",
      " 6   Old_balance_dest    47 non-null     object\n",
      " 7   new_balance_dest    47 non-null     object\n",
      " 8   Amount              47 non-null     object\n",
      "dtypes: int64(2), object(7)\n",
      "memory usage: 3.4+ KB\n"
     ]
    }
   ],
   "source": [
    "transaction.info()"
   ]
  },
  {
   "cell_type": "code",
   "execution_count": 777,
   "metadata": {},
   "outputs": [
    {
     "name": "stdout",
     "output_type": "stream",
     "text": [
      "newrow appended\n"
     ]
    }
   ],
   "source": [
    "#print(newrow)\n",
    "indexnumber = len(transaction)\n",
    "dftoadd = pd.DataFrame(newrow,index= [indexnumber])\n",
    "#print(dftoadd)\n",
    "#print(\"Newrow created\")\n",
    "#transaction.append(dftoadd)\n",
    "transaction = pd.concat([transaction,dftoadd],ignore_index=True)\n",
    "#transaction.append(newrow,ignore_index=True)\n",
    "#print(transaction)\n",
    "\n",
    "print(\"newrow appended\")"
   ]
  },
  {
   "cell_type": "code",
   "execution_count": 780,
   "metadata": {},
   "outputs": [],
   "source": [
    "csv_file_path = \"Transaction.csv\"\n",
    "transaction.to_csv(csv_file_path,mode=\"w\",index=False)"
   ]
  },
  {
   "cell_type": "code",
   "execution_count": null,
   "metadata": {},
   "outputs": [],
   "source": []
  }
 ],
 "metadata": {
  "kernelspec": {
   "display_name": "Python 3",
   "language": "python",
   "name": "python3"
  },
  "language_info": {
   "codemirror_mode": {
    "name": "ipython",
    "version": 3
   },
   "file_extension": ".py",
   "mimetype": "text/x-python",
   "name": "python",
   "nbconvert_exporter": "python",
   "pygments_lexer": "ipython3",
   "version": "3.10.5"
  }
 },
 "nbformat": 4,
 "nbformat_minor": 2
}
